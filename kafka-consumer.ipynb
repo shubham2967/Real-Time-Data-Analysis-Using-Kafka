{
 "cells": [
  {
   "cell_type": "code",
   "execution_count": null,
   "id": "186da6c7-b680-406c-b49b-1b4e6ced43ec",
   "metadata": {},
   "outputs": [],
   "source": [
    "import pandas as pd\n",
    "from kafka import KafkaConsumer\n",
    "from time import sleep\n",
    "from json import dumps,loads\n",
    "import json\n",
    "from s3fs import S3FileSystem"
   ]
  },
  {
   "cell_type": "code",
   "execution_count": null,
   "id": "9e75bedd-2035-4577-b70d-339fdc83a0ce",
   "metadata": {},
   "outputs": [],
   "source": [
    "# kafka consumer object for recieving\n",
    "# decoding the message\n",
    "consumer = KafkaConsumer('demo_testing2',\n",
    "                         bootstrap_servers=['15.207.100.124:9092'],\n",
    "                         value_deserializer=lambda x: loads(x.decode('utf-8')))"
   ]
  },
  {
   "cell_type": "code",
   "execution_count": null,
   "id": "d7ac2816-f647-4b33-acf0-83a9761b03aa",
   "metadata": {},
   "outputs": [],
   "source": [
    "for i in consumer:\n",
    "    print(i.value)"
   ]
  },
  {
   "cell_type": "code",
   "execution_count": null,
   "id": "46a4137b-ccc5-4438-b146-35efed486c52",
   "metadata": {},
   "outputs": [],
   "source": [
    "s3 = S3FileSystem()\n",
    "for count, i in enumerate(consumer):\n",
    "    with s3.open(\"s3://kafka-stock-market-shubham/stock_market_{}.json\".format(count), 'w') as file:\n",
    "            json.dump(i.value, file)"
   ]
  },
  {
   "cell_type": "code",
   "execution_count": null,
   "id": "5a3bfd18-8fca-47c4-967f-04e3d6747b5d",
   "metadata": {},
   "outputs": [],
   "source": []
  }
 ],
 "metadata": {
  "kernelspec": {
   "display_name": "Python 3 (ipykernel)",
   "language": "python",
   "name": "python3"
  },
  "language_info": {
   "codemirror_mode": {
    "name": "ipython",
    "version": 3
   },
   "file_extension": ".py",
   "mimetype": "text/x-python",
   "name": "python",
   "nbconvert_exporter": "python",
   "pygments_lexer": "ipython3",
   "version": "3.11.8"
  }
 },
 "nbformat": 4,
 "nbformat_minor": 5
}
