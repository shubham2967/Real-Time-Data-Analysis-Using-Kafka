{
 "cells": [
  {
   "cell_type": "code",
   "execution_count": null,
   "id": "3999e17e-3653-4a40-9374-42d843d863bb",
   "metadata": {},
   "outputs": [],
   "source": [
    "import pandas as pd\n",
    "from kafka import KafkaProducer\n",
    "from time import sleep\n",
    "from json import dumps\n",
    "import json\n",
    "from s3fs import S3FileSystem"
   ]
  },
  {
   "cell_type": "code",
   "execution_count": null,
   "id": "485863af-12d6-4c8e-bcf4-4ac9ea943cc2",
   "metadata": {
    "scrolled": true
   },
   "outputs": [],
   "source": [
    "# object for kafka producer\n",
    "# using serializer to proper format it in json\n",
    "producer = KafkaProducer(bootstrap_servers=['15.207.100.124:9092'],\n",
    "                         value_serializer=lambda x:\n",
    "                         dumps(x).encode('utf-8'))"
   ]
  },
  {
   "cell_type": "code",
   "execution_count": null,
   "id": "f52e21e3-bb22-4dbf-84e2-9196393fce78",
   "metadata": {},
   "outputs": [],
   "source": [
    "# sending messagze\n",
    "producer.send('demo_testing2', value=\"where\")"
   ]
  },
  {
   "cell_type": "code",
   "execution_count": null,
   "id": "ba35283a-c240-4254-9722-185b551e9fa9",
   "metadata": {},
   "outputs": [],
   "source": [
    "df = pd.read_csv(\"indexProcessed.csv\")\n",
    "df.head()"
   ]
  },
  {
   "cell_type": "code",
   "execution_count": null,
   "id": "89bc1403-5b05-4563-9943-d38581c4eb89",
   "metadata": {},
   "outputs": [],
   "source": [
    "while True:\n",
    "    stock_info= df.sample(1).to_dict(orient=\"records\")[0]\n",
    "    producer.send('demo_testing2', value=stock_info)\n",
    "    sleep(1)\n",
    "\n"
   ]
  },
  {
   "cell_type": "code",
   "execution_count": null,
   "id": "c11c0847-a049-4f21-95b6-1eb9b9b5e73c",
   "metadata": {},
   "outputs": [],
   "source": []
  }
 ],
 "metadata": {
  "kernelspec": {
   "display_name": "Python 3 (ipykernel)",
   "language": "python",
   "name": "python3"
  },
  "language_info": {
   "codemirror_mode": {
    "name": "ipython",
    "version": 3
   },
   "file_extension": ".py",
   "mimetype": "text/x-python",
   "name": "python",
   "nbconvert_exporter": "python",
   "pygments_lexer": "ipython3",
   "version": "3.11.8"
  }
 },
 "nbformat": 4,
 "nbformat_minor": 5
}
